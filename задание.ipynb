{
 "cells": [
  {
   "cell_type": "code",
   "execution_count": null,
   "metadata": {},
   "outputs": [],
   "source": [
    "import pandas as pd\n",
    "import dash\n",
    "import dash_html_components as html\n",
    "import dash_core_components as dcc\n",
    "import matplotlib.pyplot as plt\n",
    "import plotly.graph_objects as go\n",
    "import plotly.express as px\n",
    "import numpy as np\n",
    "import squarify\n",
    "import datetime as dt\n"
   ]
  },
  {
   "cell_type": "code",
   "execution_count": null,
   "metadata": {},
   "outputs": [],
   "source": [
    "df = pd.read_excel('/Users/a18279786/Downloads/claims_sample_data.xlsx')"
   ]
  },
  {
   "cell_type": "code",
   "execution_count": null,
   "metadata": {},
   "outputs": [],
   "source": [
    "df.info()"
   ]
  },
  {
   "cell_type": "markdown",
   "metadata": {},
   "source": [
    "# Далее изучаю данные, произвожу нормализацию"
   ]
  },
  {
   "cell_type": "code",
   "execution_count": null,
   "metadata": {},
   "outputs": [],
   "source": [
    "df.pivot_table(values = ['PAID_AMOUNT'],index = ['SERVICE_CATEGORY'],\n",
    "               aggfunc= ['sum','count'])"
   ]
  },
  {
   "cell_type": "code",
   "execution_count": null,
   "metadata": {},
   "outputs": [],
   "source": [
    "df.pivot_table(values = ['PAID_AMOUNT'],index = ['CLAIM_SPECIALTY'],\n",
    "               aggfunc= ['sum','count']).reset_index().sort_values(by=('count', 'PAID_AMOUNT'),ascending=False)"
   ]
  },
  {
   "cell_type": "code",
   "execution_count": null,
   "metadata": {},
   "outputs": [],
   "source": [
    "df.pivot_table(values = 'PAID_AMOUNT',index = 'PAYER',\n",
    "               aggfunc= ['sum','count']).reset_index().sort_values(by=('count', 'PAID_AMOUNT'),ascending=False)"
   ]
  },
  {
   "cell_type": "code",
   "execution_count": null,
   "metadata": {},
   "outputs": [],
   "source": [
    "df.pivot_table(values = ['PAID_AMOUNT'],index = ['MONTH'],\n",
    "               aggfunc= ['sum','count']).head(5)"
   ]
  },
  {
   "cell_type": "code",
   "execution_count": null,
   "metadata": {},
   "outputs": [],
   "source": [
    "df['MONTH'] = df['MONTH'].replace([201900],201901)\n",
    "df['SERVICE_CATEGORY'] = df['SERVICE_CATEGORY'].replace(['SpecialistFFS'],'SpecialistsFFS')"
   ]
  },
  {
   "cell_type": "code",
   "execution_count": null,
   "metadata": {},
   "outputs": [],
   "source": [
    "df.isnull().sum()"
   ]
  },
  {
   "cell_type": "code",
   "execution_count": null,
   "metadata": {},
   "outputs": [],
   "source": [
    "df['CLAIM_SPECIALTY'].fillna('unknown',inplace = True)"
   ]
  },
  {
   "cell_type": "code",
   "execution_count": null,
   "metadata": {},
   "outputs": [],
   "source": [
    "df.pivot_table(values = ['PAID_AMOUNT'],index = ['CLAIM_SPECIALTY','SERVICE_CATEGORY'],\n",
    "               aggfunc= ['sum','count']).reset_index().sort_values(by=('count', 'PAID_AMOUNT'),ascending=False)"
   ]
  },
  {
   "cell_type": "code",
   "execution_count": null,
   "metadata": {},
   "outputs": [],
   "source": [
    "df['MONTH'] = [str(i)[:4]+'-'+str(i)[4:6]+'-01' for i in df['MONTH']]\n",
    "df['MONTH'].apply(pd.to_datetime)"
   ]
  },
  {
   "cell_type": "code",
   "execution_count": null,
   "metadata": {},
   "outputs": [],
   "source": [
    "df.loc[df['PAID_AMOUNT']<0]"
   ]
  },
  {
   "cell_type": "markdown",
   "metadata": {},
   "source": [
    "# Строю графики"
   ]
  },
  {
   "cell_type": "code",
   "execution_count": null,
   "metadata": {
    "scrolled": false
   },
   "outputs": [],
   "source": [
    "#treemap по платежам в разрезе SERVICE_CATEGORY и CLAIM_SPECIALTY\n",
    "#\n",
    "#\n",
    "\n",
    "print('Введите дату начала в формате гггг-мм-дд:')\n",
    "start = input()\n",
    "print('Введите дату окончания в формате гггг-мм-дд:')\n",
    "end = input()\n",
    "a = df.loc[(df['MONTH']>=start) &(df['MONTH']<=end) & (df['PAID_AMOUNT']>0)] \\\n",
    "          .pivot_table(values = 'PAID_AMOUNT',index = ('SERVICE_CATEGORY','CLAIM_SPECIALTY'),\n",
    "           aggfunc= 'sum').reset_index()\n",
    "\n",
    "\n",
    "\n",
    "fig = px.treemap(a, path=[px.Constant('All'),'SERVICE_CATEGORY','CLAIM_SPECIALTY']\n",
    "                    ,values='PAID_AMOUNT'\n",
    "                    ,color = 'PAID_AMOUNT'\n",
    "                    ,color_continuous_scale = 'rdylgn'\n",
    "                    , width=1000, height=600)\n",
    "\n",
    "\n",
    "fig.update_layout(\n",
    "    #treemapcolorway = ('red'), #defines the colors in the treemap\n",
    "    margin = dict(t=20, l=25, r=25, b=25) )\n",
    "        \n",
    "fig.show()"
   ]
  },
  {
   "cell_type": "code",
   "execution_count": null,
   "metadata": {},
   "outputs": [],
   "source": [
    "# платежи по компаниям в тотал\n",
    "b = df.loc[df['MONTH']>='2020-01-01'].pivot_table(values = 'PAID_AMOUNT',index = ('MONTH','PAYER'),\n",
    "    aggfunc= 'sum').reset_index().sort_values(by=['MONTH','PAID_AMOUNT'], ascending=[True,False])\n",
    "\n",
    "fig = px.bar(b, x='MONTH', y='PAID_AMOUNT',\n",
    "             hover_data=['PAYER'], \n",
    "             color='PAYER', \n",
    "             height=500,\n",
    "             title=\"Total pays\"\n",
    "            )\n",
    "\n",
    "fig.update_layout(margin = dict(t=30, l=1, r=25, b=25) )\n",
    "fig.show()"
   ]
  },
  {
   "cell_type": "code",
   "execution_count": null,
   "metadata": {
    "scrolled": false
   },
   "outputs": [],
   "source": [
    "#отрицательные суммы. Компании\n",
    "с = df.loc[df['PAID_AMOUNT']<0].pivot_table(values = 'PAID_AMOUNT',index = ('MONTH','PAYER'),\n",
    "    aggfunc= 'sum').reset_index().sort_values(by=['MONTH','PAID_AMOUNT'], ascending=[True,False])\n",
    "\n",
    "fig = px.bar(с, x='MONTH', y='PAID_AMOUNT',\n",
    "             hover_data=['PAYER'], \n",
    "             color='PAYER', \n",
    "             height=500,\n",
    "             title=\"Negative sums by payers\"\n",
    "            )\n",
    "\n",
    "fig.update_layout(margin = dict(t=30, l=1, r=25, b=25) )\n",
    "fig.show()"
   ]
  },
  {
   "cell_type": "code",
   "execution_count": null,
   "metadata": {},
   "outputs": [],
   "source": [
    "#отрицательные суммы. Категории\n",
    "d = df.loc[df['PAID_AMOUNT']<0].pivot_table(values = 'PAID_AMOUNT',index = ('MONTH','SERVICE_CATEGORY'),\n",
    "    aggfunc= 'sum').reset_index().sort_values(by=['MONTH','PAID_AMOUNT'], ascending=[True,False])\n",
    "\n",
    "fig = px.bar(d, x='MONTH', y='PAID_AMOUNT',\n",
    "             hover_data=['SERVICE_CATEGORY'], \n",
    "             color='SERVICE_CATEGORY', \n",
    "             height=500,\n",
    "             title=\"Negative sums by category\"\n",
    "            )\n",
    "\n",
    "fig.update_layout(margin = dict(t=30, l=1, r=25, b=25) )\n",
    "fig.show()"
   ]
  },
  {
   "cell_type": "code",
   "execution_count": null,
   "metadata": {},
   "outputs": [],
   "source": [
    "#ТОП-5 сервисов в каждой категории по сумме оплат за период\n",
    "\n",
    "print('Введите дату начала в формате гггг-мм-дд:')\n",
    "start = input()\n",
    "print('Введите дату окончания в формате гггг-мм-дд:')\n",
    "end = input()\n",
    "e = df.loc[(df['MONTH']>=start) &(df['MONTH']<=end) & (df['PAID_AMOUNT']>0)] \\\n",
    "        .pivot_table(values = 'PAID_AMOUNT',index = ('SERVICE_CATEGORY','CLAIM_SPECIALTY'),\n",
    "        aggfunc= 'sum').reset_index().sort_values(by=['SERVICE_CATEGORY','PAID_AMOUNT'], ascending=[True,False])\n",
    "e['TOP'] = e.sort_values(['SERVICE_CATEGORY','PAID_AMOUNT'], ascending=[True,False]) \\\n",
    "             .groupby(['SERVICE_CATEGORY']) \\\n",
    "             .cumcount() + 1\n",
    "\n",
    "e = e.loc[e['TOP']<=5]\n",
    "e"
   ]
  },
  {
   "cell_type": "code",
   "execution_count": null,
   "metadata": {},
   "outputs": [],
   "source": [
    "# Средний чек по месяцам по категориям\n",
    "\n",
    "print('Введите дату начала в формате гггг-мм-дд:')\n",
    "start = input()\n",
    "print('Введите дату окончания в формате гггг-мм-дд:')\n",
    "end = input()\n",
    "f = df.loc[(df['MONTH']>=start) &(df['MONTH']<=end) & (df['PAID_AMOUNT']>0)] \\\n",
    "        .pivot_table(values = 'PAID_AMOUNT',index = ('MONTH','SERVICE_CATEGORY'),\n",
    "        aggfunc= 'mean').reset_index().sort_values(by=['MONTH','PAID_AMOUNT'], ascending=[True,False])\n",
    "\n",
    "fig = px.bar(f, x='MONTH', y='PAID_AMOUNT',\n",
    "             hover_data=['SERVICE_CATEGORY'], \n",
    "             color='SERVICE_CATEGORY', \n",
    "             height=500,\n",
    "             title=\"Mean bill by months, by category\"\n",
    "             )\n",
    "\n",
    "fig.update_layout(margin = dict(t=30, l=1, r=25, b=25) )\n",
    "fig.update_yaxes(visible=False, showticklabels=False)\n",
    "fig.show()"
   ]
  },
  {
   "cell_type": "code",
   "execution_count": null,
   "metadata": {},
   "outputs": [],
   "source": [
    "# Сравнение месяц к месяцу за предыдущие годы по платежам, по категориям\n",
    "\n",
    "g = df.pivot_table(values = 'PAID_AMOUNT',index = ('MONTH','SERVICE_CATEGORY'),\n",
    "        aggfunc= 'sum').reset_index().sort_values(by=['MONTH','PAID_AMOUNT'], ascending=[True,False])\n",
    "for i in g.index:\n",
    "    if int(str(g.loc[i,'MONTH']).split('-')[0]) < 2020:\n",
    "        g.loc[i,'MM'] = '2020-'+str(g.loc[i,'MONTH']).split('-')[1]+'-'+str(g.loc[i,'MONTH']).split('-')[2]\n",
    "    else:\n",
    "        g.loc[i,'MM'] = g.loc[i,'MONTH']\n",
    "        \n",
    "    if int(str(g.loc[i,'MONTH']).split('-')[0]) == 2020:\n",
    "        g.loc[i,'YY'] = 'TY'\n",
    "    elif int(str(g.loc[i,'MONTH']).split('-')[0]) == 2019:\n",
    "        g.loc[i,'YY'] = 'LY'\n",
    "    else:\n",
    "        g.loc[i,'YY'] = 'LLY'\n",
    "g['MM'].apply(pd.to_datetime)   \n",
    "\n",
    "print('Input category from list below: ')\n",
    "print('')\n",
    "for i in g['SERVICE_CATEGORY'].unique():\n",
    "    print(i)\n",
    "\n",
    "cat_name = input()\n",
    "\n",
    "g1 = g.loc[(g['SERVICE_CATEGORY']==cat_name)&(g['MM']<='2020-07-01')]\n",
    "fig = px.line(g1, x='MM', y='PAID_AMOUNT',\n",
    "             hover_data=['YY'], \n",
    "             color='YY', \n",
    "             height=400,\n",
    "             title=\"Month to month comparison: \"+cat_name,\n",
    "             markers=True \n",
    "             )\n",
    "\n",
    "fig.update_layout(margin = dict(t=30, l=1, r=25, b=25),\n",
    "                 legend_traceorder=\"reversed\",\n",
    "                  xaxis_title=\"Month\",\n",
    "                  yaxis_title=\"Paid amount\",\n",
    "                  legend_title=\"Year\"\n",
    "                 )\n",
    "\n",
    "\n",
    "fig.show()"
   ]
  }
 ],
 "metadata": {
  "kernelspec": {
   "display_name": "Python 3 (ipykernel)",
   "language": "python",
   "name": "python3"
  },
  "language_info": {
   "codemirror_mode": {
    "name": "ipython",
    "version": 3
   },
   "file_extension": ".py",
   "mimetype": "text/x-python",
   "name": "python",
   "nbconvert_exporter": "python",
   "pygments_lexer": "ipython3",
   "version": "3.9.7"
  }
 },
 "nbformat": 4,
 "nbformat_minor": 4
}
